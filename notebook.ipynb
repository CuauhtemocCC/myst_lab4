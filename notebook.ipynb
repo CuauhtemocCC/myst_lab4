{
 "cells": [
  {
   "cell_type": "markdown",
   "metadata": {},
   "source": [
    "<hr style=\"border:0.02in solid gray\"> </hr>"
   ]
  },
  {
   "cell_type": "markdown",
   "metadata": {},
   "source": [
    "<center><font color=#555555><font size=6> Laboratorio 4: Microestructura del mercado </font> <br> <br>\n",
    "    \n",
    "<center><font color=#555555><font size=5> Microestructura de trading </font> <br> <br> <br>\n",
    "\n",
    "<center><font color=#555555><font size=5> Cuauhtémoc Corrales Camacho, if720482@iteso.mx </font> <br> <br>\n",
    "\n",
    "<center><font color=#555555><font size=5> Jesús Sebastián González Ortiz, if721621@iteso.mx </font> <br> <br> <br>\n",
    "\n",
    "<center> <font color= #555555> <font size = 4> Noviembre 2022 </a> | <font color= #555555> <font size = 4> Repository: <a href='https://github.com/SebasGlez2000/myst_lab4'>Link</a></font>"
   ]
  },
  {
   "cell_type": "markdown",
   "metadata": {},
   "source": [
    "<hr style=\"border:0.02in solid gray\"> </hr>"
   ]
  },
  {
   "cell_type": "markdown",
   "metadata": {},
   "source": [
    "<font color= #555555> <font size = 4> Abstract </font>"
   ]
  },
  {
   "cell_type": "markdown",
   "metadata": {},
   "source": [
    "Con la información recaudada de tres diferentes exchanges de diferentes partes del mundo, se usaron los libros de ordenes de tres diferentes criptomonedas que son BTC, ETH y SOL, con la información de volumenes y precios, el objetivo será visualizar y modelar la microestructura del mercado por medio de sus comportamientos de los libros de ordenes y sus características."
   ]
  },
  {
   "cell_type": "markdown",
   "metadata": {},
   "source": [
    "<br>"
   ]
  },
  {
   "cell_type": "markdown",
   "metadata": {},
   "source": [
    "# <font color= #6B6B6B> <font size = 6> 1. Introduction </font>"
   ]
  },
  {
   "cell_type": "markdown",
   "metadata": {},
   "source": [
    "<hr style=\"border:0.02in solid gray\"> </hr>"
   ]
  },
  {
   "cell_type": "markdown",
   "metadata": {},
   "source": [
    "En el siguiente laboratorio se estará trabajando en la Microestructura del mercado enfocado en las criptomonedas del momento, se recaurdará información del Libro de Ordenes de criptomonedas de diversos exchanges internacionales, esto con el propósito de visualizar y modelar la microestructura del mercado por medio de su comportamiento del libro de ordenes. La información obtenida para el libro de ordenes son de tres criptomonedas que se consideran que son de las más influyentes del mercado: Ethereum (ETH), Solana (SOL) y Bitcoin (BTC), dichas monedas se medirán en dólares americanos para una visión más generalizada del mercado.\n",
    "\n",
    "Los libros de ordenes de dichas criptomonedas serán descargadas de tres exchanges de diferentes partes del mundo para ver la variación de precios que hay entre dichas plataformas y así poder observar si es posible el arbitraje entre ellos. Los exchanges utilizados serán Bitso que es una plataforma mexicana, Alpaca que es una plataforma del Reino Unido y Ascendex que es una plataforma de Singapur. \n",
    "\n",
    "Como se puede observar, nuestros exchanges tienen sedes muy alejadas unas de otras entonces las ordenes recibidas entre dichos exchanges van a variar bastante unas de otras, la descarga del libro de ordenes se hará de una hora y de ahí se partirá para obtener los datos que se estan buscando para la realización del laboratorio.\n",
    "\n",
    "De los Libros de Ordenes (LO) de los exchanges se extraerán los siguientes datos:\n",
    "\n",
    "- Ask-volume para cada timestamp del LO: El ask-volume es la cantidad de ordenes que existen en el mercado para la **venta** del activo en el timestamp indicado.\n",
    "- Bid-volume para cada timestamp del LO: El bid-volume es la cantidad de ordenes que existen en el mercado para la **compra** del activo en el timestamp indicado.\n",
    "- Total Volume (ask-bid) para cada timestamp del LO: Es la suma de los volumenes que hay entre el bid y el ask en el timestamp indicado.\n",
    "- Mid-Price (promedio de Top Of the Book) para cada timestamp del LO: Es el promedio de los precios de la oferta y la demanda del activo al momento.\n",
    "- VWAP para cada timestamp del LO: Es el precio medio ponderado por volumen, muestra la relación entre el precio de un activo y su volumen total de operaciones.\n",
    "\n",
    "A partir de los precios recolectados entre el bid y el ask, se calculará el spread, que es la diferencia de precios entre la demanda (bid) y la oferta (ask) de un mercado, y se contruirán series de tiempo con la información recopilada y procesada para su fácil visualización.\n",
    "\n",
    "Se dividirá en tres secciones el laboratorio; el primero consiste en la extracción del Libro de Ordenes y OHLC de la criptomonedas de diversos exchanges, después la contrsucción de las Series de Tiempo indicadas previamente y por último es el modelado de la microestructura que consiste en estimar el Effective Spread del modelo de Roll."
   ]
  },
  {
   "cell_type": "markdown",
   "metadata": {},
   "source": [
    "<br>"
   ]
  },
  {
   "cell_type": "markdown",
   "metadata": {},
   "source": [
    "# <font color= #6B6B6B> 2. Install/Load Packages and Depedencies </font>"
   ]
  },
  {
   "cell_type": "markdown",
   "metadata": {},
   "source": [
    "<hr style=\"border:0.02in solid gray\"> </hr>"
   ]
  },
  {
   "cell_type": "markdown",
   "metadata": {},
   "source": [
    "## <font color= #6B6B6B> 2.1 Python Packages </font> <font color= #555555>"
   ]
  },
  {
   "cell_type": "markdown",
   "metadata": {},
   "source": [
    "In order to run this notebook, it is necessary to have installed and/or have the _requirements.txt_ file with the following: "
   ]
  },
  {
   "cell_type": "markdown",
   "metadata": {},
   "source": [
    "- pandas>=1.1.1 \n",
    "- numpy>=1.19.1\n",
    "- jupyter>=1.0.0\n",
    "- _Add any other here_"
   ]
  },
  {
   "cell_type": "markdown",
   "metadata": {},
   "source": [
    "## <font color= #6B6B6B> 2.2 Files Dependencies </font> <font color= #555555>"
   ]
  },
  {
   "cell_type": "markdown",
   "metadata": {},
   "source": [
    "The following are the file dependencies that are needed to run this notebook:"
   ]
  },
  {
   "cell_type": "markdown",
   "metadata": {},
   "source": [
    "- files/precios.csv : Precios históricos\n",
    "- files/datos.txt : Otros datos históricos"
   ]
  },
  {
   "cell_type": "markdown",
   "metadata": {},
   "source": [
    "## <font color= #6E6E6E> 2.3 Install Packages</font>"
   ]
  },
  {
   "cell_type": "markdown",
   "metadata": {},
   "source": [
    "<font color= red> DELETE THIS CELL FROM YOUR FILE</font>\n",
    "\n",
    "- A \"cell magic command\" to hide output of the cell:\n",
    "> %%capture\n",
    "\n",
    "- Not recommended:\n",
    "> !pip install -r requirements.txt \n",
    "\n",
    "- Use these two lines instead:\n",
    "\n",
    "> import sys\n",
    "<br>\n",
    "> !{sys.executable} -m pip install -r requirements.txt"
   ]
  },
  {
   "cell_type": "code",
   "execution_count": 1,
   "metadata": {},
   "outputs": [],
   "source": [
    "%%capture\n",
    "\n",
    "# Install all the pip packages in the requirements.txt\n",
    "import sys\n",
    "!{sys.executable} -m pip install -r requirements.txt"
   ]
  },
  {
   "cell_type": "markdown",
   "metadata": {},
   "source": [
    "<br>"
   ]
  },
  {
   "cell_type": "markdown",
   "metadata": {},
   "source": [
    "# <font color= #6B6B6B> 3. Data Description </font>"
   ]
  },
  {
   "cell_type": "markdown",
   "metadata": {},
   "source": [
    "<hr style=\"border:0.02in solid gray\"> </hr>"
   ]
  },
  {
   "cell_type": "code",
   "execution_count": 2,
   "metadata": {},
   "outputs": [],
   "source": [
    "# DELETE THIS CELL IN YOUR FILE\n",
    "\n",
    "# Here you include content from data conceptual, statistical and visual description"
   ]
  },
  {
   "cell_type": "markdown",
   "metadata": {},
   "source": [
    "<br>"
   ]
  },
  {
   "cell_type": "markdown",
   "metadata": {},
   "source": [
    "# <font color= #6B6B6B> 4. A particular Process  </font>"
   ]
  },
  {
   "cell_type": "markdown",
   "metadata": {},
   "source": [
    "<hr style=\"border:0.02in solid gray\"> </hr>"
   ]
  },
  {
   "cell_type": "code",
   "execution_count": 3,
   "metadata": {},
   "outputs": [],
   "source": [
    "# DELETE THIS CELL IN YOUR FILE\n",
    "\n",
    "# A particular process that is relevant for the work you are presenting."
   ]
  },
  {
   "cell_type": "markdown",
   "metadata": {},
   "source": [
    "<br>"
   ]
  },
  {
   "cell_type": "markdown",
   "metadata": {},
   "source": [
    "# <font color= #6B6B6B> 5. Another particular Process  </font>"
   ]
  },
  {
   "cell_type": "markdown",
   "metadata": {},
   "source": [
    "<hr style=\"border:0.02in solid gray\"> </hr>"
   ]
  },
  {
   "cell_type": "code",
   "execution_count": 4,
   "metadata": {},
   "outputs": [],
   "source": [
    "# DELETE THIS CELL IN YOUR FILE\n",
    "\n",
    "# Another particular process that is relevant for the work. Normally, you include between 2 and 5 at the most."
   ]
  },
  {
   "cell_type": "markdown",
   "metadata": {},
   "source": [
    "<br>"
   ]
  },
  {
   "cell_type": "markdown",
   "metadata": {},
   "source": [
    "# <font color= #6B6B6B> <font size = 6> 5. Results </font>"
   ]
  },
  {
   "cell_type": "markdown",
   "metadata": {},
   "source": [
    "<hr style=\"border:0.02in solid gray\"> </hr>"
   ]
  },
  {
   "cell_type": "code",
   "execution_count": 5,
   "metadata": {},
   "outputs": [],
   "source": [
    "# DELETE THIS CELL IN YOUR FILE\n",
    "\n",
    "# In here you present the general results, and also, a discussion of such results."
   ]
  },
  {
   "cell_type": "markdown",
   "metadata": {},
   "source": [
    "<br>"
   ]
  },
  {
   "cell_type": "markdown",
   "metadata": {},
   "source": [
    "## <font color= #6B6B6B> 5.1 Results of first processes </font>"
   ]
  },
  {
   "cell_type": "code",
   "execution_count": 6,
   "metadata": {},
   "outputs": [],
   "source": [
    "# DELETE THIS CELL IN YOUR FILE\n",
    "\n",
    "# Separate your results according to the main processes you are working on"
   ]
  },
  {
   "cell_type": "markdown",
   "metadata": {},
   "source": [
    "<br>"
   ]
  },
  {
   "cell_type": "markdown",
   "metadata": {},
   "source": [
    "## <font color= #6B6B6B> 5.2 Results of another proces </font>"
   ]
  },
  {
   "cell_type": "code",
   "execution_count": 7,
   "metadata": {},
   "outputs": [],
   "source": [
    "# DELETE THIS CELL IN YOUR FILE\n",
    "\n",
    "# You can have several processes with which you are obtaining the results you need."
   ]
  },
  {
   "cell_type": "markdown",
   "metadata": {},
   "source": [
    "<br>"
   ]
  },
  {
   "cell_type": "markdown",
   "metadata": {},
   "source": [
    "# <font color= #6B6B6B> <font size = 6> 6. References </font>"
   ]
  },
  {
   "cell_type": "markdown",
   "metadata": {},
   "source": [
    "<hr style=\"border:0.02in solid gray\"> </hr>"
   ]
  },
  {
   "cell_type": "markdown",
   "metadata": {},
   "source": [
    "- VWAP (definición). (s. f.). IG. https://www.ig.com/es/glosario-trading/definicion-de-vwap\n",
    "\n",
    "- elEconomista.es. (s. f.). Spread: qué es - Diccionario de Economía. https://www.eleconomista.es/diccionario-de-economia/spread\n",
    "\n",
    "- Nine, E. N. (2022, 7 enero). El precio BID, el MID y el ASK. ¿Qué son y para qué se usan? ». Ninety Nine. https://ninetynine.com/blog/bid-mid-ask/"
   ]
  },
  {
   "cell_type": "markdown",
   "metadata": {},
   "source": [
    "<br>"
   ]
  }
 ],
 "metadata": {
  "kernelspec": {
   "display_name": "Python 3",
   "language": "python",
   "name": "python3"
  },
  "language_info": {
   "codemirror_mode": {
    "name": "ipython",
    "version": 3
   },
   "file_extension": ".py",
   "mimetype": "text/x-python",
   "name": "python",
   "nbconvert_exporter": "python",
   "pygments_lexer": "ipython3",
   "version": "3.8.8"
  }
 },
 "nbformat": 4,
 "nbformat_minor": 4
}
