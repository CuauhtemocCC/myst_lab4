{
 "cells": [
  {
   "cell_type": "markdown",
   "metadata": {},
   "source": [
    "<hr style=\"border:0.02in solid gray\"> </hr>"
   ]
  },
  {
   "cell_type": "markdown",
   "metadata": {},
   "source": [
    "<center><font color=#555555><font size=6> Laboratorio 4: Microestructura del mercado </font> <br> <br>\n",
    "    \n",
    "<center><font color=#555555><font size=5> Microestructura de trading </font> <br> <br> <br>\n",
    "\n",
    "<center><font color=#555555><font size=5> Cuauhtémoc Corrales Camacho, if720482@iteso.mx </font> <br> <br>\n",
    "\n",
    "<center><font color=#555555><font size=5> Jesús Sebastián González Ortiz, if721621@iteso.mx </font> <br> <br> <br>\n",
    "\n",
    "<center> <font color= #555555> <font size = 4> Noviembre 2022 </a> | <font color= #555555> <font size = 4> Repository: <a href='https://github.com/SebasGlez2000/myst_lab4'>Link</a></font>"
   ]
  },
  {
   "cell_type": "markdown",
   "metadata": {},
   "source": [
    "<hr style=\"border:0.02in solid gray\"> </hr>"
   ]
  },
  {
   "cell_type": "markdown",
   "metadata": {},
   "source": [
    "<font color= #555555> <font size = 4> Abstract </font>"
   ]
  },
  {
   "cell_type": "markdown",
   "metadata": {},
   "source": [
    "Con la información recaudada de tres diferentes exchanges de diferentes partes del mundo, se usaron los libros de ordenes de tres diferentes criptomonedas que son BTC, ETH y SOL, con la información de volumenes y precios, el objetivo será visualizar y modelar la microestructura del mercado por medio de sus comportamientos de los libros de ordenes y sus características."
   ]
  },
  {
   "cell_type": "markdown",
   "metadata": {},
   "source": [
    "<br>"
   ]
  },
  {
   "cell_type": "markdown",
   "metadata": {},
   "source": [
    "# <font color= #6B6B6B> <font size = 6> 1. Introduction </font>"
   ]
  },
  {
   "cell_type": "markdown",
   "metadata": {},
   "source": [
    "<hr style=\"border:0.02in solid gray\"> </hr>"
   ]
  },
  {
   "cell_type": "markdown",
   "metadata": {},
   "source": [
    "En el siguiente laboratorio se estará trabajando en la Microestructura del mercado enfocado en las criptomonedas del momento, se recaurdará información del Libro de Ordenes de criptomonedas de diversos exchanges internacionales, esto con el propósito de visualizar y modelar la microestructura del mercado por medio de su comportamiento del libro de ordenes. \n",
    "\n",
    "Los libros de ordenes de dichas criptomonedas serán descargadas de tres exchanges de diferentes partes del mundo para ver la variación de precios que hay entre dichas plataformas y así poder observar si es posible el arbitraje entre ellos. Los exchanges utilizados serán Bitso que es una plataforma mexicana, Gate que es una plataforma de las Islas Caimán y Okcoin que es una plataforma de Estados Unidos. \n",
    "\n",
    "Como se puede observar, nuestros exchanges tienen sedes muy alejadas unas de otras entonces las ordenes recibidas entre dichos exchanges van a variar bastante unas de otras, la descarga del libro de ordenes se hará de una hora y de ahí se partirá para obtener los datos que se estan buscando para la realización del laboratorio.\n",
    "\n",
    "De los Libros de Ordenes (LO) de los exchanges se extraerán los siguientes datos:\n",
    "\n",
    "- Ask-volume para cada timestamp del LO: El ask-volume es la cantidad de ordenes que existen en el mercado para la **venta** del activo en el timestamp indicado.\n",
    "- Bid-volume para cada timestamp del LO: El bid-volume es la cantidad de ordenes que existen en el mercado para la **compra** del activo en el timestamp indicado.\n",
    "- Total Volume (ask-bid) para cada timestamp del LO: Es la suma de los volumenes que hay entre el bid y el ask en el timestamp indicado.\n",
    "- Mid-Price (promedio de Top Of the Book) para cada timestamp del LO: Es el promedio de los precios de la oferta y la demanda del activo al momento.\n",
    "- VWAP para cada timestamp del LO: Es el precio medio ponderado por volumen, muestra la relación entre el precio de un activo y su volumen total de operaciones.\n",
    "\n",
    "A partir de los precios recolectados entre el bid y el ask, se calculará el spread, que es la diferencia de precios entre la demanda (bid) y la oferta (ask) de un mercado, y se contruirán series de tiempo con la información recopilada y procesada para su fácil visualización.\n",
    "\n",
    "Se dividirá en tres secciones el laboratorio; el primero consiste en la extracción del Libro de Ordenes y OHLC de la criptomonedas de diversos exchanges, después la contrsucción de las Series de Tiempo indicadas previamente y por último es el modelado de la microestructura que consiste en estimar el Effective Spread del modelo de Roll."
   ]
  },
  {
   "cell_type": "markdown",
   "metadata": {},
   "source": [
    "<br>"
   ]
  },
  {
   "cell_type": "markdown",
   "metadata": {},
   "source": [
    "# <font color= #6B6B6B> 2. Descripcion de datos </font>"
   ]
  },
  {
   "cell_type": "markdown",
   "metadata": {},
   "source": [
    "<hr style=\"border:0.02in solid gray\"> </hr>"
   ]
  },
  {
   "cell_type": "markdown",
   "metadata": {},
   "source": [
    " La información obtenida para el libro de ordenes son de tres criptomonedas que se consideran que son de las más influyentes del mercado: Ethereum (ETH), Solana (SOL) y Bitcoin (BTC), dichas monedas se medirán en dólares americanos para una visión más generalizada del mercado. Cada par sera extraido de los tres diferentes exchanges propuestos durante la introduccion, con lo cual se dispondran de nueve instrumentos para su analisis. \n",
    "\n",
    " Esta informacion sera descargada de la paqueteria ccxt, la cual pide en su documentacion un instrumento, un exchange y un limite de ordenes. Y arroja como salidas un diccionario con el nombre del instrumento, los niveles de operaciones de bid y ask dentro del limite establecido, un timestamp en formato de microsegundos y una fecha en formata iso. \n",
    "\n",
    " Para el desarrollo de este laboratorio se necesita extraer una hora de datos, donde dicho periodo de tiempo recopilara todos los instrumentos dentro del intervalo."
   ]
  },
  {
   "cell_type": "code",
   "execution_count": 8,
   "metadata": {},
   "outputs": [],
   "source": [
    "import main as mn\n",
    "import visualizations as vs\n",
    "import data as dt"
   ]
  },
  {
   "cell_type": "markdown",
   "metadata": {},
   "source": [
    "<br>"
   ]
  },
  {
   "cell_type": "markdown",
   "metadata": {},
   "source": [
    "# <font color= #6B6B6B> 4. Procesamiento y Visualización de datos  </font>"
   ]
  },
  {
   "cell_type": "markdown",
   "metadata": {},
   "source": [
    "<hr style=\"border:0.02in solid gray\"> </hr>"
   ]
  },
  {
   "cell_type": "markdown",
   "metadata": {},
   "source": [
    "El primer paso fue hacer una funcion de iteracion para almacenar los datos correspondientes a los nueve instrumentos en el periodo determinado de una hora. Dicha funcion tiene como entradas el limite de operaciones, el exchange y el tiempo asignado y arroja una lista con nueve grupos con los respectivos los datos en pares de segundos durante el intervalo. Dicha operacion de extraccion se realizo mediante la funcion cccxt.fetch_order_book.\n",
    "\n",
    "Tras esto se creo la funcion de extracion de precios de cierre, la cual necesita de un exchange, un instrumento y un limite y arroja un diccionario que incluye los precios de cierre por minito en el limite escrito. La funcion utilizada para este metedo fue ccxt.fetch_ohlcv. Un dato curioso de este metodo es que extrae valores del datos mas nuevo hacia atras en el tiempo, en la longitud del limite ingresado. \n",
    "\n",
    "Con estas dos extracciones, se creo una funcion para crear un formato de salida como el especificado en la primera de las visualizaciones. "
   ]
  },
  {
   "cell_type": "markdown",
   "metadata": {},
   "source": [
    "## <font color= #6B6B6B> 4.1. Creacion de tabla de microestructura  </font>"
   ]
  },
  {
   "cell_type": "markdown",
   "metadata": {},
   "source": [
    "La función llamada microestructura lee los datos descargados de las funciones anteriores para organizarlos en un DataFrame con el formato exigido en las indicaciones. Dicha funcion recibe como entrada una lista con los exchange, una lista con los instrumentos, el tiempo de intervalo y una lista de apoyo ya declarada al inicio del codigo. \n",
    "\n",
    "Dentro de esta funcion, se calcula el numero de niveles, el volumen total de operaciones *Bid* y *Ask*, asi como el volumen total operado; el precio medio del instrumento,  el cual se calcula mediante el promedio de los precios de *Bid* y *Ask* en su primer nivel; el VWAP se calcula mediante un promedio ponderado que implica los precios de *Bid* y *Ask* y sus respectivos volumenes. Finalmente se calcula el spread de precios para cada intervalo  y una columna de apoyo referente al tiempo del intervalo. "
   ]
  },
  {
   "cell_type": "code",
   "execution_count": 9,
   "metadata": {},
   "outputs": [
    {
     "data": {
      "text/html": [
       "<div>\n",
       "<style scoped>\n",
       "    .dataframe tbody tr th:only-of-type {\n",
       "        vertical-align: middle;\n",
       "    }\n",
       "\n",
       "    .dataframe tbody tr th {\n",
       "        vertical-align: top;\n",
       "    }\n",
       "\n",
       "    .dataframe thead th {\n",
       "        text-align: right;\n",
       "    }\n",
       "</style>\n",
       "<table border=\"1\" class=\"dataframe\">\n",
       "  <thead>\n",
       "    <tr style=\"text-align: right;\">\n",
       "      <th></th>\n",
       "      <th>exchange</th>\n",
       "      <th>symbol</th>\n",
       "      <th>timestamp</th>\n",
       "      <th>level</th>\n",
       "      <th>ask_volume</th>\n",
       "      <th>bid_volume</th>\n",
       "      <th>total_volume</th>\n",
       "      <th>mid_price</th>\n",
       "      <th>VWAP</th>\n",
       "    </tr>\n",
       "  </thead>\n",
       "  <tbody>\n",
       "    <tr>\n",
       "      <th>0</th>\n",
       "      <td>Bitso</td>\n",
       "      <td>ETH/USD</td>\n",
       "      <td>2022-11-12T00:34:41.000Z</td>\n",
       "      <td>50</td>\n",
       "      <td>110.045558</td>\n",
       "      <td>61.639810</td>\n",
       "      <td>171.685367</td>\n",
       "      <td>1272.350</td>\n",
       "      <td>1275.197786</td>\n",
       "    </tr>\n",
       "    <tr>\n",
       "      <th>1</th>\n",
       "      <td>Bitso</td>\n",
       "      <td>ETH/USD</td>\n",
       "      <td>2022-11-12T00:34:47.000Z</td>\n",
       "      <td>50</td>\n",
       "      <td>104.213558</td>\n",
       "      <td>61.630610</td>\n",
       "      <td>165.844167</td>\n",
       "      <td>1271.600</td>\n",
       "      <td>1275.011486</td>\n",
       "    </tr>\n",
       "    <tr>\n",
       "      <th>2</th>\n",
       "      <td>Bitso</td>\n",
       "      <td>ETH/USD</td>\n",
       "      <td>2022-11-12T00:34:53.000Z</td>\n",
       "      <td>50</td>\n",
       "      <td>247.376680</td>\n",
       "      <td>61.630910</td>\n",
       "      <td>309.007589</td>\n",
       "      <td>1271.650</td>\n",
       "      <td>1274.922716</td>\n",
       "    </tr>\n",
       "    <tr>\n",
       "      <th>3</th>\n",
       "      <td>Bitso</td>\n",
       "      <td>ETH/USD</td>\n",
       "      <td>2022-11-12T00:34:59.000Z</td>\n",
       "      <td>50</td>\n",
       "      <td>234.005527</td>\n",
       "      <td>68.164506</td>\n",
       "      <td>302.170032</td>\n",
       "      <td>1272.250</td>\n",
       "      <td>1272.778383</td>\n",
       "    </tr>\n",
       "    <tr>\n",
       "      <th>4</th>\n",
       "      <td>Bitso</td>\n",
       "      <td>ETH/USD</td>\n",
       "      <td>2022-11-12T00:35:05.000Z</td>\n",
       "      <td>50</td>\n",
       "      <td>234.348980</td>\n",
       "      <td>68.200026</td>\n",
       "      <td>302.549006</td>\n",
       "      <td>1271.900</td>\n",
       "      <td>1272.132110</td>\n",
       "    </tr>\n",
       "    <tr>\n",
       "      <th>...</th>\n",
       "      <td>...</td>\n",
       "      <td>...</td>\n",
       "      <td>...</td>\n",
       "      <td>...</td>\n",
       "      <td>...</td>\n",
       "      <td>...</td>\n",
       "      <td>...</td>\n",
       "      <td>...</td>\n",
       "      <td>...</td>\n",
       "    </tr>\n",
       "    <tr>\n",
       "      <th>184</th>\n",
       "      <td>Okcoin</td>\n",
       "      <td>BTC/USD</td>\n",
       "      <td>2022-11-12T00:36:22.356Z</td>\n",
       "      <td>50</td>\n",
       "      <td>48.920800</td>\n",
       "      <td>59.316500</td>\n",
       "      <td>108.237300</td>\n",
       "      <td>16920.305</td>\n",
       "      <td>16918.490000</td>\n",
       "    </tr>\n",
       "    <tr>\n",
       "      <th>185</th>\n",
       "      <td>Okcoin</td>\n",
       "      <td>BTC/USD</td>\n",
       "      <td>2022-11-12T00:36:28.648Z</td>\n",
       "      <td>50</td>\n",
       "      <td>48.926400</td>\n",
       "      <td>59.488100</td>\n",
       "      <td>108.414500</td>\n",
       "      <td>16920.305</td>\n",
       "      <td>16917.481667</td>\n",
       "    </tr>\n",
       "    <tr>\n",
       "      <th>186</th>\n",
       "      <td>Okcoin</td>\n",
       "      <td>BTC/USD</td>\n",
       "      <td>2022-11-12T00:36:34.719Z</td>\n",
       "      <td>50</td>\n",
       "      <td>50.088600</td>\n",
       "      <td>64.774300</td>\n",
       "      <td>114.862900</td>\n",
       "      <td>16920.305</td>\n",
       "      <td>16916.147000</td>\n",
       "    </tr>\n",
       "    <tr>\n",
       "      <th>187</th>\n",
       "      <td>Okcoin</td>\n",
       "      <td>BTC/USD</td>\n",
       "      <td>2022-11-12T00:36:40.380Z</td>\n",
       "      <td>50</td>\n",
       "      <td>50.446000</td>\n",
       "      <td>64.650700</td>\n",
       "      <td>115.096700</td>\n",
       "      <td>16927.060</td>\n",
       "      <td>16923.376667</td>\n",
       "    </tr>\n",
       "    <tr>\n",
       "      <th>188</th>\n",
       "      <td>Okcoin</td>\n",
       "      <td>BTC/USD</td>\n",
       "      <td>2022-11-12T00:36:46.666Z</td>\n",
       "      <td>50</td>\n",
       "      <td>50.751500</td>\n",
       "      <td>64.986000</td>\n",
       "      <td>115.737500</td>\n",
       "      <td>16927.075</td>\n",
       "      <td>16924.470563</td>\n",
       "    </tr>\n",
       "  </tbody>\n",
       "</table>\n",
       "<p>189 rows × 9 columns</p>\n",
       "</div>"
      ],
      "text/plain": [
       "    exchange   symbol                 timestamp  level  ask_volume  \\\n",
       "0      Bitso  ETH/USD  2022-11-12T00:34:41.000Z     50  110.045558   \n",
       "1      Bitso  ETH/USD  2022-11-12T00:34:47.000Z     50  104.213558   \n",
       "2      Bitso  ETH/USD  2022-11-12T00:34:53.000Z     50  247.376680   \n",
       "3      Bitso  ETH/USD  2022-11-12T00:34:59.000Z     50  234.005527   \n",
       "4      Bitso  ETH/USD  2022-11-12T00:35:05.000Z     50  234.348980   \n",
       "..       ...      ...                       ...    ...         ...   \n",
       "184   Okcoin  BTC/USD  2022-11-12T00:36:22.356Z     50   48.920800   \n",
       "185   Okcoin  BTC/USD  2022-11-12T00:36:28.648Z     50   48.926400   \n",
       "186   Okcoin  BTC/USD  2022-11-12T00:36:34.719Z     50   50.088600   \n",
       "187   Okcoin  BTC/USD  2022-11-12T00:36:40.380Z     50   50.446000   \n",
       "188   Okcoin  BTC/USD  2022-11-12T00:36:46.666Z     50   50.751500   \n",
       "\n",
       "     bid_volume  total_volume  mid_price          VWAP  \n",
       "0     61.639810    171.685367   1272.350   1275.197786  \n",
       "1     61.630610    165.844167   1271.600   1275.011486  \n",
       "2     61.630910    309.007589   1271.650   1274.922716  \n",
       "3     68.164506    302.170032   1272.250   1272.778383  \n",
       "4     68.200026    302.549006   1271.900   1272.132110  \n",
       "..          ...           ...        ...           ...  \n",
       "184   59.316500    108.237300  16920.305  16918.490000  \n",
       "185   59.488100    108.414500  16920.305  16917.481667  \n",
       "186   64.774300    114.862900  16920.305  16916.147000  \n",
       "187   64.650700    115.096700  16927.060  16923.376667  \n",
       "188   64.986000    115.737500  16927.075  16924.470563  \n",
       "\n",
       "[189 rows x 9 columns]"
      ]
     },
     "execution_count": 9,
     "metadata": {},
     "output_type": "execute_result"
    }
   ],
   "source": [
    "tabla = mn.me\n",
    "tabla.drop(['milliseconds','timestamp2','Spread'],axis=1)"
   ]
  },
  {
   "cell_type": "markdown",
   "metadata": {},
   "source": [
    "## <font color= #6B6B6B> 4.2. Gráficas de instrumentos  </font>"
   ]
  },
  {
   "cell_type": "markdown",
   "metadata": {},
   "source": [
    "Con la tabla de microestructura creada, es posible graficar el comportamiento de cada activo para el intervalo elegido. Para este caso, se graficara los cambios en el **Mid Price** o precio medio para cada uno de los nueve instrumentos. "
   ]
  },
  {
   "cell_type": "code",
   "execution_count": 10,
   "metadata": {},
   "outputs": [
    {
     "data": {
      "application/vnd.plotly.v1+json": {
       "config": {
        "plotlyServerURL": "https://plot.ly"
       },
       "data": [
        {
         "name": "Bitso ETH/USD",
         "type": "scatter",
         "x": [
          "2022-11-12T00:34:41.000Z",
          "2022-11-12T00:34:47.000Z",
          "2022-11-12T00:34:53.000Z",
          "2022-11-12T00:34:59.000Z",
          "2022-11-12T00:35:05.000Z",
          "2022-11-12T00:35:11.000Z",
          "2022-11-12T00:35:17.000Z",
          "2022-11-12T00:35:24.000Z",
          "2022-11-12T00:35:29.000Z",
          "2022-11-12T00:35:35.000Z",
          "2022-11-12T00:35:41.000Z",
          "2022-11-12T00:35:47.000Z",
          "2022-11-12T00:35:53.000Z",
          "2022-11-12T00:35:59.000Z",
          "2022-11-12T00:36:05.000Z",
          "2022-11-12T00:36:11.000Z",
          "2022-11-12T00:36:17.000Z",
          "2022-11-12T00:36:23.000Z",
          "2022-11-12T00:36:29.000Z",
          "2022-11-12T00:36:35.000Z",
          "2022-11-12T00:36:41.000Z"
         ],
         "xaxis": "x",
         "y": [
          1272.35,
          1271.6,
          1271.65,
          1272.25,
          1271.9,
          1271.8,
          1272.3,
          1272.65,
          1273.05,
          1272.75,
          1273.4,
          1273.55,
          1273.35,
          1273.4,
          1272.55,
          1273.15,
          1272.45,
          1273.6,
          1273.8,
          1273.7,
          1272.55
         ],
         "yaxis": "y"
        },
        {
         "name": "Bitso SOL/USD",
         "type": "scatter",
         "x": [
          "2022-11-12T00:34:43.000Z",
          "2022-11-12T00:34:49.000Z",
          "2022-11-12T00:34:55.000Z",
          "2022-11-12T00:35:01.000Z",
          "2022-11-12T00:35:07.000Z",
          "2022-11-12T00:35:14.000Z",
          "2022-11-12T00:35:19.000Z",
          "2022-11-12T00:35:25.000Z",
          "2022-11-12T00:35:31.000Z",
          "2022-11-12T00:35:37.000Z",
          "2022-11-12T00:35:43.000Z",
          "2022-11-12T00:35:49.000Z",
          "2022-11-12T00:35:55.000Z",
          "2022-11-12T00:36:01.000Z",
          "2022-11-12T00:36:07.000Z",
          "2022-11-12T00:36:13.000Z",
          "2022-11-12T00:36:19.000Z",
          "2022-11-12T00:36:25.000Z",
          "2022-11-12T00:36:31.000Z",
          "2022-11-12T00:36:37.000Z",
          "2022-11-12T00:36:43.000Z"
         ],
         "xaxis": "x4",
         "y": [
          16.0855,
          16.0765,
          16.0855,
          16.0815,
          16.088,
          16.091,
          16.089,
          16.09,
          16.0875,
          16.099,
          16.112000000000002,
          16.109,
          16.1155,
          16.113500000000002,
          16.111,
          16.1285,
          16.119,
          16.119,
          16.119,
          16.128,
          16.128
         ],
         "yaxis": "y4"
        },
        {
         "name": "Bitso BTC/USD",
         "type": "scatter",
         "x": [
          "2022-11-12T00:34:45.000Z",
          "2022-11-12T00:34:51.000Z",
          "2022-11-12T00:34:57.000Z",
          "2022-11-12T00:35:03.000Z",
          "2022-11-12T00:35:09.000Z",
          "2022-11-12T00:35:15.000Z",
          "2022-11-12T00:35:22.000Z",
          "2022-11-12T00:35:27.000Z",
          "2022-11-12T00:35:33.000Z",
          "2022-11-12T00:35:39.000Z",
          "2022-11-12T00:35:45.000Z",
          "2022-11-12T00:35:51.000Z",
          "2022-11-12T00:35:58.000Z",
          "2022-11-12T00:36:03.000Z",
          "2022-11-12T00:36:09.000Z",
          "2022-11-12T00:36:16.000Z",
          "2022-11-12T00:36:21.000Z",
          "2022-11-12T00:36:27.000Z",
          "2022-11-12T00:36:33.000Z",
          "2022-11-12T00:36:39.000Z",
          "2022-11-12T00:36:45.000Z"
         ],
         "xaxis": "x7",
         "y": [
          16897.5,
          16898.5,
          16899.5,
          16902,
          16906,
          16913.5,
          16922.5,
          16930,
          16921.5,
          16928,
          16921.5,
          16917,
          16919,
          16918,
          16917.5,
          16919.5,
          16913,
          16923,
          16920.5,
          16928.5,
          16919.5
         ],
         "yaxis": "y7"
        },
        {
         "name": "Gate ETH/USD",
         "type": "scatter",
         "x": [
          "2022-11-12T00:34:44.499Z",
          "2022-11-12T00:34:51.208Z",
          "2022-11-12T00:34:58.033Z",
          "2022-11-12T00:35:02.896Z",
          "2022-11-12T00:35:09.536Z",
          "2022-11-12T00:35:15.386Z",
          "2022-11-12T00:35:21.946Z",
          "2022-11-12T00:35:27.708Z",
          "2022-11-12T00:35:33.104Z",
          "2022-11-12T00:35:38.986Z",
          "2022-11-12T00:35:45.914Z",
          "2022-11-12T00:35:51.415Z",
          "2022-11-12T00:35:57.058Z",
          "2022-11-12T00:36:03.581Z",
          "2022-11-12T00:36:09.690Z",
          "2022-11-12T00:36:15.161Z",
          "2022-11-12T00:36:21.415Z",
          "2022-11-12T00:36:26.914Z",
          "2022-11-12T00:36:32.868Z",
          "2022-11-12T00:36:39.652Z",
          "2022-11-12T00:36:45.168Z"
         ],
         "xaxis": "x2",
         "y": [
          1271.78,
          1271.8400000000001,
          1272.305,
          1272.88,
          1272.6799999999998,
          1273.13,
          1273.6399999999999,
          1274.3049999999998,
          1273.6999999999998,
          1274.075,
          1274.17,
          1274.52,
          1275.005,
          1275.015,
          1274.815,
          1275.155,
          1275.115,
          1275.58,
          1275.19,
          1275.6100000000001,
          1275.3
         ],
         "yaxis": "y2"
        },
        {
         "name": "Gate SOL/USD",
         "type": "scatter",
         "x": [
          "2022-11-12T00:34:45.417Z",
          "2022-11-12T00:34:51.352Z",
          "2022-11-12T00:34:57.572Z",
          "2022-11-12T00:35:04.231Z",
          "2022-11-12T00:35:09.921Z",
          "2022-11-12T00:35:15.214Z",
          "2022-11-12T00:35:22.580Z",
          "2022-11-12T00:35:27.505Z",
          "2022-11-12T00:35:34.200Z",
          "2022-11-12T00:35:39.233Z",
          "2022-11-12T00:35:44.457Z",
          "2022-11-12T00:35:51.501Z",
          "2022-11-12T00:35:57.599Z",
          "2022-11-12T00:36:03.455Z",
          "2022-11-12T00:36:09.414Z",
          "2022-11-12T00:36:15.614Z",
          "2022-11-12T00:36:21.316Z",
          "2022-11-12T00:36:28.296Z",
          "2022-11-12T00:36:33.798Z",
          "2022-11-12T00:36:39.593Z",
          "2022-11-12T00:36:45.617Z"
         ],
         "xaxis": "x5",
         "y": [
          16.073500000000003,
          16.073500000000003,
          16.072499999999998,
          16.094,
          16.094,
          16.094,
          16.094,
          16.107,
          16.113500000000002,
          16.113500000000002,
          16.113500000000002,
          16.113500000000002,
          16.113500000000002,
          16.113500000000002,
          16.113500000000002,
          16.113500000000002,
          16.113500000000002,
          16.113500000000002,
          16.113500000000002,
          16.113500000000002,
          16.113500000000002
         ],
         "yaxis": "y5"
        },
        {
         "name": "Gate BTC/USD",
         "type": "scatter",
         "x": [
          "2022-11-12T00:34:45.826Z",
          "2022-11-12T00:34:51.117Z",
          "2022-11-12T00:34:57.607Z",
          "2022-11-12T00:35:02.780Z",
          "2022-11-12T00:35:08.601Z",
          "2022-11-12T00:35:16.399Z",
          "2022-11-12T00:35:22.093Z",
          "2022-11-12T00:35:27.904Z",
          "2022-11-12T00:35:33.703Z",
          "2022-11-12T00:35:39.984Z",
          "2022-11-12T00:35:45.225Z",
          "2022-11-12T00:35:50.705Z",
          "2022-11-12T00:35:58.392Z",
          "2022-11-12T00:36:03.095Z",
          "2022-11-12T00:36:09.640Z",
          "2022-11-12T00:36:16.161Z",
          "2022-11-12T00:36:22.280Z",
          "2022-11-12T00:36:28.267Z",
          "2022-11-12T00:36:34.293Z",
          "2022-11-12T00:36:40.422Z",
          "2022-11-12T00:36:46.075Z"
         ],
         "xaxis": "x8",
         "y": [
          16895.385000000002,
          16893.364999999998,
          16897.934999999998,
          16883.65,
          16904.785,
          16911.145,
          16917.760000000002,
          16923.34,
          16920.795,
          16923.855,
          16921.815000000002,
          16921.83,
          16923.6,
          16921.305,
          16923.845,
          16925.125,
          16917.22,
          16925.375,
          16927.934999999998,
          16949.17,
          16929.965
         ],
         "yaxis": "y8"
        },
        {
         "name": "Okcoin ETH/USD",
         "type": "scatter",
         "x": [
          "2022-11-12T00:34:45.716Z",
          "2022-11-12T00:34:51.791Z",
          "2022-11-12T00:34:58.475Z",
          "2022-11-12T00:35:03.907Z",
          "2022-11-12T00:35:10.161Z",
          "2022-11-12T00:35:16.394Z",
          "2022-11-12T00:35:22.846Z",
          "2022-11-12T00:35:28.440Z",
          "2022-11-12T00:35:34.500Z",
          "2022-11-12T00:35:40.241Z",
          "2022-11-12T00:35:45.900Z",
          "2022-11-12T00:35:52.574Z",
          "2022-11-12T00:35:58.668Z",
          "2022-11-12T00:36:04.351Z",
          "2022-11-12T00:36:10.005Z",
          "2022-11-12T00:36:16.062Z",
          "2022-11-12T00:36:22.172Z",
          "2022-11-12T00:36:28.465Z",
          "2022-11-12T00:36:33.904Z",
          "2022-11-12T00:36:40.615Z",
          "2022-11-12T00:36:45.846Z"
         ],
         "xaxis": "x3",
         "y": [
          1271.935,
          1271.94,
          1272.505,
          1272.665,
          1272.5549999999998,
          1273.2150000000001,
          1273.94,
          1274.315,
          1273.96,
          1274.215,
          1274.2849999999999,
          1274.665,
          1275.01,
          1274.945,
          1274.87,
          1275.29,
          1275.23,
          1275.32,
          1275.315,
          1275.5700000000002,
          1275.3400000000001
         ],
         "yaxis": "y3"
        },
        {
         "name": "Okcoin SOL/USD",
         "type": "scatter",
         "x": [
          "2022-11-12T00:34:45.766Z",
          "2022-11-12T00:34:52.053Z",
          "2022-11-12T00:34:58.533Z",
          "2022-11-12T00:35:04.166Z",
          "2022-11-12T00:35:10.422Z",
          "2022-11-12T00:35:16.653Z",
          "2022-11-12T00:35:23.103Z",
          "2022-11-12T00:35:28.283Z",
          "2022-11-12T00:35:34.552Z",
          "2022-11-12T00:35:40.292Z",
          "2022-11-12T00:35:46.371Z",
          "2022-11-12T00:35:52.414Z",
          "2022-11-12T00:35:58.507Z",
          "2022-11-12T00:36:03.981Z",
          "2022-11-12T00:36:10.470Z",
          "2022-11-12T00:36:16.113Z",
          "2022-11-12T00:36:22.432Z",
          "2022-11-12T00:36:28.516Z",
          "2022-11-12T00:36:33.742Z",
          "2022-11-12T00:36:39.403Z",
          "2022-11-12T00:36:46.317Z"
         ],
         "xaxis": "x6",
         "y": [
          16.139,
          16.1345,
          16.1285,
          16.1315,
          16.137999999999998,
          16.1285,
          16.139,
          16.139,
          16.131,
          16.145000000000003,
          16.1715,
          16.1625,
          16.1685,
          16.162,
          16.1705,
          16.092,
          16.197000000000003,
          16.207,
          16.204500000000003,
          16.2025,
          16.2085
         ],
         "yaxis": "y6"
        },
        {
         "name": "Okcoin BTC/USD",
         "type": "scatter",
         "x": [
          "2022-11-12T00:34:46.523Z",
          "2022-11-12T00:34:52.605Z",
          "2022-11-12T00:34:58.867Z",
          "2022-11-12T00:35:04.509Z",
          "2022-11-12T00:35:10.349Z",
          "2022-11-12T00:35:16.369Z",
          "2022-11-12T00:35:23.237Z",
          "2022-11-12T00:35:28.415Z",
          "2022-11-12T00:35:34.475Z",
          "2022-11-12T00:35:40.639Z",
          "2022-11-12T00:35:46.506Z",
          "2022-11-12T00:35:52.338Z",
          "2022-11-12T00:35:58.432Z",
          "2022-11-12T00:36:04.326Z",
          "2022-11-12T00:36:10.601Z",
          "2022-11-12T00:36:16.667Z",
          "2022-11-12T00:36:22.356Z",
          "2022-11-12T00:36:28.648Z",
          "2022-11-12T00:36:34.719Z",
          "2022-11-12T00:36:40.380Z",
          "2022-11-12T00:36:46.666Z"
         ],
         "xaxis": "x9",
         "y": [
          16893.35,
          16893.28,
          16894.77,
          16900.73,
          16902.62,
          16909.07,
          16916.205,
          16922.395,
          16917.105,
          16920.775,
          16920.39,
          16920.395,
          16920.32,
          16919.875,
          16920.305,
          16920.225,
          16920.305,
          16920.305,
          16920.305,
          16927.059999999998,
          16927.075
         ],
         "yaxis": "y9"
        }
       ],
       "layout": {
        "height": 600,
        "template": {
         "data": {
          "bar": [
           {
            "error_x": {
             "color": "#2a3f5f"
            },
            "error_y": {
             "color": "#2a3f5f"
            },
            "marker": {
             "line": {
              "color": "#E5ECF6",
              "width": 0.5
             },
             "pattern": {
              "fillmode": "overlay",
              "size": 10,
              "solidity": 0.2
             }
            },
            "type": "bar"
           }
          ],
          "barpolar": [
           {
            "marker": {
             "line": {
              "color": "#E5ECF6",
              "width": 0.5
             },
             "pattern": {
              "fillmode": "overlay",
              "size": 10,
              "solidity": 0.2
             }
            },
            "type": "barpolar"
           }
          ],
          "carpet": [
           {
            "aaxis": {
             "endlinecolor": "#2a3f5f",
             "gridcolor": "white",
             "linecolor": "white",
             "minorgridcolor": "white",
             "startlinecolor": "#2a3f5f"
            },
            "baxis": {
             "endlinecolor": "#2a3f5f",
             "gridcolor": "white",
             "linecolor": "white",
             "minorgridcolor": "white",
             "startlinecolor": "#2a3f5f"
            },
            "type": "carpet"
           }
          ],
          "choropleth": [
           {
            "colorbar": {
             "outlinewidth": 0,
             "ticks": ""
            },
            "type": "choropleth"
           }
          ],
          "contour": [
           {
            "colorbar": {
             "outlinewidth": 0,
             "ticks": ""
            },
            "colorscale": [
             [
              0,
              "#0d0887"
             ],
             [
              0.1111111111111111,
              "#46039f"
             ],
             [
              0.2222222222222222,
              "#7201a8"
             ],
             [
              0.3333333333333333,
              "#9c179e"
             ],
             [
              0.4444444444444444,
              "#bd3786"
             ],
             [
              0.5555555555555556,
              "#d8576b"
             ],
             [
              0.6666666666666666,
              "#ed7953"
             ],
             [
              0.7777777777777778,
              "#fb9f3a"
             ],
             [
              0.8888888888888888,
              "#fdca26"
             ],
             [
              1,
              "#f0f921"
             ]
            ],
            "type": "contour"
           }
          ],
          "contourcarpet": [
           {
            "colorbar": {
             "outlinewidth": 0,
             "ticks": ""
            },
            "type": "contourcarpet"
           }
          ],
          "heatmap": [
           {
            "colorbar": {
             "outlinewidth": 0,
             "ticks": ""
            },
            "colorscale": [
             [
              0,
              "#0d0887"
             ],
             [
              0.1111111111111111,
              "#46039f"
             ],
             [
              0.2222222222222222,
              "#7201a8"
             ],
             [
              0.3333333333333333,
              "#9c179e"
             ],
             [
              0.4444444444444444,
              "#bd3786"
             ],
             [
              0.5555555555555556,
              "#d8576b"
             ],
             [
              0.6666666666666666,
              "#ed7953"
             ],
             [
              0.7777777777777778,
              "#fb9f3a"
             ],
             [
              0.8888888888888888,
              "#fdca26"
             ],
             [
              1,
              "#f0f921"
             ]
            ],
            "type": "heatmap"
           }
          ],
          "heatmapgl": [
           {
            "colorbar": {
             "outlinewidth": 0,
             "ticks": ""
            },
            "colorscale": [
             [
              0,
              "#0d0887"
             ],
             [
              0.1111111111111111,
              "#46039f"
             ],
             [
              0.2222222222222222,
              "#7201a8"
             ],
             [
              0.3333333333333333,
              "#9c179e"
             ],
             [
              0.4444444444444444,
              "#bd3786"
             ],
             [
              0.5555555555555556,
              "#d8576b"
             ],
             [
              0.6666666666666666,
              "#ed7953"
             ],
             [
              0.7777777777777778,
              "#fb9f3a"
             ],
             [
              0.8888888888888888,
              "#fdca26"
             ],
             [
              1,
              "#f0f921"
             ]
            ],
            "type": "heatmapgl"
           }
          ],
          "histogram": [
           {
            "marker": {
             "pattern": {
              "fillmode": "overlay",
              "size": 10,
              "solidity": 0.2
             }
            },
            "type": "histogram"
           }
          ],
          "histogram2d": [
           {
            "colorbar": {
             "outlinewidth": 0,
             "ticks": ""
            },
            "colorscale": [
             [
              0,
              "#0d0887"
             ],
             [
              0.1111111111111111,
              "#46039f"
             ],
             [
              0.2222222222222222,
              "#7201a8"
             ],
             [
              0.3333333333333333,
              "#9c179e"
             ],
             [
              0.4444444444444444,
              "#bd3786"
             ],
             [
              0.5555555555555556,
              "#d8576b"
             ],
             [
              0.6666666666666666,
              "#ed7953"
             ],
             [
              0.7777777777777778,
              "#fb9f3a"
             ],
             [
              0.8888888888888888,
              "#fdca26"
             ],
             [
              1,
              "#f0f921"
             ]
            ],
            "type": "histogram2d"
           }
          ],
          "histogram2dcontour": [
           {
            "colorbar": {
             "outlinewidth": 0,
             "ticks": ""
            },
            "colorscale": [
             [
              0,
              "#0d0887"
             ],
             [
              0.1111111111111111,
              "#46039f"
             ],
             [
              0.2222222222222222,
              "#7201a8"
             ],
             [
              0.3333333333333333,
              "#9c179e"
             ],
             [
              0.4444444444444444,
              "#bd3786"
             ],
             [
              0.5555555555555556,
              "#d8576b"
             ],
             [
              0.6666666666666666,
              "#ed7953"
             ],
             [
              0.7777777777777778,
              "#fb9f3a"
             ],
             [
              0.8888888888888888,
              "#fdca26"
             ],
             [
              1,
              "#f0f921"
             ]
            ],
            "type": "histogram2dcontour"
           }
          ],
          "mesh3d": [
           {
            "colorbar": {
             "outlinewidth": 0,
             "ticks": ""
            },
            "type": "mesh3d"
           }
          ],
          "parcoords": [
           {
            "line": {
             "colorbar": {
              "outlinewidth": 0,
              "ticks": ""
             }
            },
            "type": "parcoords"
           }
          ],
          "pie": [
           {
            "automargin": true,
            "type": "pie"
           }
          ],
          "scatter": [
           {
            "fillpattern": {
             "fillmode": "overlay",
             "size": 10,
             "solidity": 0.2
            },
            "type": "scatter"
           }
          ],
          "scatter3d": [
           {
            "line": {
             "colorbar": {
              "outlinewidth": 0,
              "ticks": ""
             }
            },
            "marker": {
             "colorbar": {
              "outlinewidth": 0,
              "ticks": ""
             }
            },
            "type": "scatter3d"
           }
          ],
          "scattercarpet": [
           {
            "marker": {
             "colorbar": {
              "outlinewidth": 0,
              "ticks": ""
             }
            },
            "type": "scattercarpet"
           }
          ],
          "scattergeo": [
           {
            "marker": {
             "colorbar": {
              "outlinewidth": 0,
              "ticks": ""
             }
            },
            "type": "scattergeo"
           }
          ],
          "scattergl": [
           {
            "marker": {
             "colorbar": {
              "outlinewidth": 0,
              "ticks": ""
             }
            },
            "type": "scattergl"
           }
          ],
          "scattermapbox": [
           {
            "marker": {
             "colorbar": {
              "outlinewidth": 0,
              "ticks": ""
             }
            },
            "type": "scattermapbox"
           }
          ],
          "scatterpolar": [
           {
            "marker": {
             "colorbar": {
              "outlinewidth": 0,
              "ticks": ""
             }
            },
            "type": "scatterpolar"
           }
          ],
          "scatterpolargl": [
           {
            "marker": {
             "colorbar": {
              "outlinewidth": 0,
              "ticks": ""
             }
            },
            "type": "scatterpolargl"
           }
          ],
          "scatterternary": [
           {
            "marker": {
             "colorbar": {
              "outlinewidth": 0,
              "ticks": ""
             }
            },
            "type": "scatterternary"
           }
          ],
          "surface": [
           {
            "colorbar": {
             "outlinewidth": 0,
             "ticks": ""
            },
            "colorscale": [
             [
              0,
              "#0d0887"
             ],
             [
              0.1111111111111111,
              "#46039f"
             ],
             [
              0.2222222222222222,
              "#7201a8"
             ],
             [
              0.3333333333333333,
              "#9c179e"
             ],
             [
              0.4444444444444444,
              "#bd3786"
             ],
             [
              0.5555555555555556,
              "#d8576b"
             ],
             [
              0.6666666666666666,
              "#ed7953"
             ],
             [
              0.7777777777777778,
              "#fb9f3a"
             ],
             [
              0.8888888888888888,
              "#fdca26"
             ],
             [
              1,
              "#f0f921"
             ]
            ],
            "type": "surface"
           }
          ],
          "table": [
           {
            "cells": {
             "fill": {
              "color": "#EBF0F8"
             },
             "line": {
              "color": "white"
             }
            },
            "header": {
             "fill": {
              "color": "#C8D4E3"
             },
             "line": {
              "color": "white"
             }
            },
            "type": "table"
           }
          ]
         },
         "layout": {
          "annotationdefaults": {
           "arrowcolor": "#2a3f5f",
           "arrowhead": 0,
           "arrowwidth": 1
          },
          "autotypenumbers": "strict",
          "coloraxis": {
           "colorbar": {
            "outlinewidth": 0,
            "ticks": ""
           }
          },
          "colorscale": {
           "diverging": [
            [
             0,
             "#8e0152"
            ],
            [
             0.1,
             "#c51b7d"
            ],
            [
             0.2,
             "#de77ae"
            ],
            [
             0.3,
             "#f1b6da"
            ],
            [
             0.4,
             "#fde0ef"
            ],
            [
             0.5,
             "#f7f7f7"
            ],
            [
             0.6,
             "#e6f5d0"
            ],
            [
             0.7,
             "#b8e186"
            ],
            [
             0.8,
             "#7fbc41"
            ],
            [
             0.9,
             "#4d9221"
            ],
            [
             1,
             "#276419"
            ]
           ],
           "sequential": [
            [
             0,
             "#0d0887"
            ],
            [
             0.1111111111111111,
             "#46039f"
            ],
            [
             0.2222222222222222,
             "#7201a8"
            ],
            [
             0.3333333333333333,
             "#9c179e"
            ],
            [
             0.4444444444444444,
             "#bd3786"
            ],
            [
             0.5555555555555556,
             "#d8576b"
            ],
            [
             0.6666666666666666,
             "#ed7953"
            ],
            [
             0.7777777777777778,
             "#fb9f3a"
            ],
            [
             0.8888888888888888,
             "#fdca26"
            ],
            [
             1,
             "#f0f921"
            ]
           ],
           "sequentialminus": [
            [
             0,
             "#0d0887"
            ],
            [
             0.1111111111111111,
             "#46039f"
            ],
            [
             0.2222222222222222,
             "#7201a8"
            ],
            [
             0.3333333333333333,
             "#9c179e"
            ],
            [
             0.4444444444444444,
             "#bd3786"
            ],
            [
             0.5555555555555556,
             "#d8576b"
            ],
            [
             0.6666666666666666,
             "#ed7953"
            ],
            [
             0.7777777777777778,
             "#fb9f3a"
            ],
            [
             0.8888888888888888,
             "#fdca26"
            ],
            [
             1,
             "#f0f921"
            ]
           ]
          },
          "colorway": [
           "#636efa",
           "#EF553B",
           "#00cc96",
           "#ab63fa",
           "#FFA15A",
           "#19d3f3",
           "#FF6692",
           "#B6E880",
           "#FF97FF",
           "#FECB52"
          ],
          "font": {
           "color": "#2a3f5f"
          },
          "geo": {
           "bgcolor": "white",
           "lakecolor": "white",
           "landcolor": "#E5ECF6",
           "showlakes": true,
           "showland": true,
           "subunitcolor": "white"
          },
          "hoverlabel": {
           "align": "left"
          },
          "hovermode": "closest",
          "mapbox": {
           "style": "light"
          },
          "paper_bgcolor": "white",
          "plot_bgcolor": "#E5ECF6",
          "polar": {
           "angularaxis": {
            "gridcolor": "white",
            "linecolor": "white",
            "ticks": ""
           },
           "bgcolor": "#E5ECF6",
           "radialaxis": {
            "gridcolor": "white",
            "linecolor": "white",
            "ticks": ""
           }
          },
          "scene": {
           "xaxis": {
            "backgroundcolor": "#E5ECF6",
            "gridcolor": "white",
            "gridwidth": 2,
            "linecolor": "white",
            "showbackground": true,
            "ticks": "",
            "zerolinecolor": "white"
           },
           "yaxis": {
            "backgroundcolor": "#E5ECF6",
            "gridcolor": "white",
            "gridwidth": 2,
            "linecolor": "white",
            "showbackground": true,
            "ticks": "",
            "zerolinecolor": "white"
           },
           "zaxis": {
            "backgroundcolor": "#E5ECF6",
            "gridcolor": "white",
            "gridwidth": 2,
            "linecolor": "white",
            "showbackground": true,
            "ticks": "",
            "zerolinecolor": "white"
           }
          },
          "shapedefaults": {
           "line": {
            "color": "#2a3f5f"
           }
          },
          "ternary": {
           "aaxis": {
            "gridcolor": "white",
            "linecolor": "white",
            "ticks": ""
           },
           "baxis": {
            "gridcolor": "white",
            "linecolor": "white",
            "ticks": ""
           },
           "bgcolor": "#E5ECF6",
           "caxis": {
            "gridcolor": "white",
            "linecolor": "white",
            "ticks": ""
           }
          },
          "title": {
           "x": 0.05
          },
          "xaxis": {
           "automargin": true,
           "gridcolor": "white",
           "linecolor": "white",
           "ticks": "",
           "title": {
            "standoff": 15
           },
           "zerolinecolor": "white",
           "zerolinewidth": 2
          },
          "yaxis": {
           "automargin": true,
           "gridcolor": "white",
           "linecolor": "white",
           "ticks": "",
           "title": {
            "standoff": 15
           },
           "zerolinecolor": "white",
           "zerolinewidth": 2
          }
         }
        },
        "title": {
         "text": "Exchanges"
        },
        "xaxis": {
         "anchor": "y",
         "domain": [
          0,
          0.32
         ],
         "matches": "x7",
         "showticklabels": false
        },
        "xaxis2": {
         "anchor": "y2",
         "domain": [
          0.34,
          0.66
         ],
         "matches": "x8",
         "showticklabels": false
        },
        "xaxis3": {
         "anchor": "y3",
         "domain": [
          0.68,
          1
         ],
         "matches": "x9",
         "showticklabels": false
        },
        "xaxis4": {
         "anchor": "y4",
         "domain": [
          0,
          0.32
         ],
         "matches": "x7",
         "showticklabels": false
        },
        "xaxis5": {
         "anchor": "y5",
         "domain": [
          0.34,
          0.66
         ],
         "matches": "x8",
         "showticklabels": false
        },
        "xaxis6": {
         "anchor": "y6",
         "domain": [
          0.68,
          1
         ],
         "matches": "x9",
         "showticklabels": false
        },
        "xaxis7": {
         "anchor": "y7",
         "domain": [
          0,
          0.32
         ],
         "title": {
          "text": "Bitso"
         }
        },
        "xaxis8": {
         "anchor": "y8",
         "domain": [
          0.34,
          0.66
         ],
         "title": {
          "text": "Gate"
         }
        },
        "xaxis9": {
         "anchor": "y9",
         "domain": [
          0.68,
          1
         ],
         "title": {
          "text": "Okcoin"
         }
        },
        "yaxis": {
         "anchor": "x",
         "domain": [
          0.68,
          1
         ],
         "title": {
          "text": "ETH/USD"
         }
        },
        "yaxis2": {
         "anchor": "x2",
         "domain": [
          0.68,
          1
         ],
         "matches": "y",
         "showticklabels": false
        },
        "yaxis3": {
         "anchor": "x3",
         "domain": [
          0.68,
          1
         ],
         "matches": "y",
         "showticklabels": false
        },
        "yaxis4": {
         "anchor": "x4",
         "domain": [
          0.34,
          0.66
         ],
         "title": {
          "text": "SOL/USD"
         }
        },
        "yaxis5": {
         "anchor": "x5",
         "domain": [
          0.34,
          0.66
         ],
         "matches": "y4",
         "showticklabels": false
        },
        "yaxis6": {
         "anchor": "x6",
         "domain": [
          0.34,
          0.66
         ],
         "matches": "y4",
         "showticklabels": false
        },
        "yaxis7": {
         "anchor": "x7",
         "domain": [
          0,
          0.32
         ],
         "title": {
          "text": "BTC/USD"
         }
        },
        "yaxis8": {
         "anchor": "x8",
         "domain": [
          0,
          0.32
         ],
         "matches": "y7",
         "showticklabels": false
        },
        "yaxis9": {
         "anchor": "x9",
         "domain": [
          0,
          0.32
         ],
         "matches": "y7",
         "showticklabels": false
        }
       }
      }
     },
     "metadata": {},
     "output_type": "display_data"
    }
   ],
   "source": [
    "vs.grafos(mn.me,dt.exchl)"
   ]
  },
  {
   "cell_type": "markdown",
   "metadata": {},
   "source": [
    "El siguiente paso fue construir un formato para el calculo de spread efectivo, para el cual se definio una nueva funcion denominada como spread_cut, el cual recibia como entradas la tabla de microestructura y la tabla con los precios de cierre y arroja como salidas una lista con nueve tablas, las cuales tienen datos de timestamp en minutos, el precio de cierre y el spread real. \n",
    "\n",
    "La clave para este inciso fue establecer una union adecuada entre ambas tablas con el proposito de que cada activo y precio de cierre en la tabla de precios de cierre recibiera el spread real dentro de la tabla de micrestructura, ademas que se realizo una transformacion para que el timestamp de las salidas quedara en dentro del valor de minutos y no de segundos. \n",
    "\n",
    "Tras esto, se crearon dos funciones para el calculo del spread efectivo, la primera hace el calculo bruto del spread nuevo mediante la tabla obtenida en la funcion de microestructura, mientras que la segunda añade los resultados de la primera funcion y los concatena a las salidas de la funcion spread_cut mencionada anteriormente. "
   ]
  },
  {
   "cell_type": "markdown",
   "metadata": {},
   "source": [
    "<br>"
   ]
  },
  {
   "cell_type": "markdown",
   "metadata": {},
   "source": [
    "# <font color= #6B6B6B> <font size = 6> 5. Resultados </font>"
   ]
  },
  {
   "cell_type": "markdown",
   "metadata": {},
   "source": [
    "<hr style=\"border:0.02in solid gray\"> </hr>"
   ]
  },
  {
   "cell_type": "markdown",
   "metadata": {},
   "source": [
    "Como salidas del nuestros procesos, se obtienen nueve tablas, las cuales almacenan la informacion del timestamp en su indice, el precio de cierre en su primera columna, el spread real en su segunda columna y el resultado del calculado del spread efectivo en su tercera columna. "
   ]
  },
  {
   "cell_type": "markdown",
   "metadata": {},
   "source": [
    "## <font color= #6B6B6B> 5.1 Resultados ETH/USD </font>"
   ]
  },
  {
   "cell_type": "code",
   "execution_count": 14,
   "metadata": {},
   "outputs": [
    {
     "data": {
      "text/html": [
       "<div>\n",
       "<style scoped>\n",
       "    .dataframe tbody tr th:only-of-type {\n",
       "        vertical-align: middle;\n",
       "    }\n",
       "\n",
       "    .dataframe tbody tr th {\n",
       "        vertical-align: top;\n",
       "    }\n",
       "\n",
       "    .dataframe thead th {\n",
       "        text-align: right;\n",
       "    }\n",
       "</style>\n",
       "<table border=\"1\" class=\"dataframe\">\n",
       "  <thead>\n",
       "    <tr style=\"text-align: right;\">\n",
       "      <th></th>\n",
       "      <th>CP ETH/USD Bitso</th>\n",
       "      <th>Spread</th>\n",
       "      <th>Effective</th>\n",
       "      <th>CP ETH/USD Gate.io</th>\n",
       "      <th>Spread</th>\n",
       "      <th>Effective</th>\n",
       "      <th>CP ETH/USD OKCoin</th>\n",
       "      <th>Spread</th>\n",
       "      <th>Effective</th>\n",
       "    </tr>\n",
       "    <tr>\n",
       "      <th>timestamp2</th>\n",
       "      <th></th>\n",
       "      <th></th>\n",
       "      <th></th>\n",
       "      <th></th>\n",
       "      <th></th>\n",
       "      <th></th>\n",
       "      <th></th>\n",
       "      <th></th>\n",
       "      <th></th>\n",
       "    </tr>\n",
       "  </thead>\n",
       "  <tbody>\n",
       "    <tr>\n",
       "      <th>2022-11-12T00:34</th>\n",
       "      <td>1276.0</td>\n",
       "      <td>5.9</td>\n",
       "      <td>0.000000</td>\n",
       "      <td>1272.31</td>\n",
       "      <td>0.12</td>\n",
       "      <td>0.000000</td>\n",
       "      <td>1276.07</td>\n",
       "      <td>1.83</td>\n",
       "      <td>0.000000</td>\n",
       "    </tr>\n",
       "    <tr>\n",
       "      <th>2022-11-12T00:35</th>\n",
       "      <td>1276.0</td>\n",
       "      <td>6.6</td>\n",
       "      <td>1.171820</td>\n",
       "      <td>1274.87</td>\n",
       "      <td>0.82</td>\n",
       "      <td>0.432210</td>\n",
       "      <td>1274.10</td>\n",
       "      <td>1.35</td>\n",
       "      <td>0.321242</td>\n",
       "    </tr>\n",
       "    <tr>\n",
       "      <th>2022-11-12T00:36</th>\n",
       "      <td>1276.0</td>\n",
       "      <td>6.9</td>\n",
       "      <td>0.071297</td>\n",
       "      <td>1275.24</td>\n",
       "      <td>0.27</td>\n",
       "      <td>0.318444</td>\n",
       "      <td>1274.10</td>\n",
       "      <td>1.35</td>\n",
       "      <td>0.230184</td>\n",
       "    </tr>\n",
       "  </tbody>\n",
       "</table>\n",
       "</div>"
      ],
      "text/plain": [
       "                  CP ETH/USD Bitso  Spread  Effective  CP ETH/USD Gate.io  \\\n",
       "timestamp2                                                                  \n",
       "2022-11-12T00:34            1276.0     5.9   0.000000             1272.31   \n",
       "2022-11-12T00:35            1276.0     6.6   1.171820             1274.87   \n",
       "2022-11-12T00:36            1276.0     6.9   0.071297             1275.24   \n",
       "\n",
       "                  Spread  Effective  CP ETH/USD OKCoin  Spread  Effective  \n",
       "timestamp2                                                                 \n",
       "2022-11-12T00:34    0.12   0.000000            1276.07    1.83   0.000000  \n",
       "2022-11-12T00:35    0.82   0.432210            1274.10    1.35   0.321242  \n",
       "2022-11-12T00:36    0.27   0.318444            1274.10    1.35   0.230184  "
      ]
     },
     "execution_count": 14,
     "metadata": {},
     "output_type": "execute_result"
    }
   ],
   "source": [
    "mn.Resultados[0].head()"
   ]
  },
  {
   "cell_type": "markdown",
   "metadata": {},
   "source": [
    "## <font color= #6B6B6B> 5.2 Resultados SOL/USD </font>"
   ]
  },
  {
   "cell_type": "code",
   "execution_count": 15,
   "metadata": {},
   "outputs": [
    {
     "data": {
      "text/html": [
       "<div>\n",
       "<style scoped>\n",
       "    .dataframe tbody tr th:only-of-type {\n",
       "        vertical-align: middle;\n",
       "    }\n",
       "\n",
       "    .dataframe tbody tr th {\n",
       "        vertical-align: top;\n",
       "    }\n",
       "\n",
       "    .dataframe thead th {\n",
       "        text-align: right;\n",
       "    }\n",
       "</style>\n",
       "<table border=\"1\" class=\"dataframe\">\n",
       "  <thead>\n",
       "    <tr style=\"text-align: right;\">\n",
       "      <th></th>\n",
       "      <th>CP SOL/USD Bitso</th>\n",
       "      <th>Spread</th>\n",
       "      <th>Effective</th>\n",
       "      <th>CP SOL/USD Gate.io</th>\n",
       "      <th>Spread</th>\n",
       "      <th>Effective</th>\n",
       "      <th>CP SOL/USD OKCoin</th>\n",
       "      <th>Spread</th>\n",
       "      <th>Effective</th>\n",
       "    </tr>\n",
       "    <tr>\n",
       "      <th>timestamp2</th>\n",
       "      <th></th>\n",
       "      <th></th>\n",
       "      <th></th>\n",
       "      <th></th>\n",
       "      <th></th>\n",
       "      <th></th>\n",
       "      <th></th>\n",
       "      <th></th>\n",
       "      <th></th>\n",
       "    </tr>\n",
       "  </thead>\n",
       "  <tbody>\n",
       "    <tr>\n",
       "      <th>2022-11-12T00:34</th>\n",
       "      <td>16.088</td>\n",
       "      <td>0.021</td>\n",
       "      <td>0.000000</td>\n",
       "      <td>16.093</td>\n",
       "      <td>0.041</td>\n",
       "      <td>0.000000</td>\n",
       "      <td>15.878</td>\n",
       "      <td>0.164</td>\n",
       "      <td>0.000000</td>\n",
       "    </tr>\n",
       "    <tr>\n",
       "      <th>2022-11-12T00:35</th>\n",
       "      <td>16.132</td>\n",
       "      <td>0.013</td>\n",
       "      <td>0.011719</td>\n",
       "      <td>16.103</td>\n",
       "      <td>0.002</td>\n",
       "      <td>0.010568</td>\n",
       "      <td>15.878</td>\n",
       "      <td>0.149</td>\n",
       "      <td>0.026906</td>\n",
       "    </tr>\n",
       "    <tr>\n",
       "      <th>2022-11-12T00:36</th>\n",
       "      <td>16.138</td>\n",
       "      <td>0.035</td>\n",
       "      <td>0.006576</td>\n",
       "      <td>16.093</td>\n",
       "      <td>0.041</td>\n",
       "      <td>0.006388</td>\n",
       "      <td>15.878</td>\n",
       "      <td>0.130</td>\n",
       "      <td>0.048058</td>\n",
       "    </tr>\n",
       "  </tbody>\n",
       "</table>\n",
       "</div>"
      ],
      "text/plain": [
       "                  CP SOL/USD Bitso  Spread  Effective  CP SOL/USD Gate.io  \\\n",
       "timestamp2                                                                  \n",
       "2022-11-12T00:34            16.088   0.021   0.000000              16.093   \n",
       "2022-11-12T00:35            16.132   0.013   0.011719              16.103   \n",
       "2022-11-12T00:36            16.138   0.035   0.006576              16.093   \n",
       "\n",
       "                  Spread  Effective  CP SOL/USD OKCoin  Spread  Effective  \n",
       "timestamp2                                                                 \n",
       "2022-11-12T00:34   0.041   0.000000             15.878   0.164   0.000000  \n",
       "2022-11-12T00:35   0.002   0.010568             15.878   0.149   0.026906  \n",
       "2022-11-12T00:36   0.041   0.006388             15.878   0.130   0.048058  "
      ]
     },
     "execution_count": 15,
     "metadata": {},
     "output_type": "execute_result"
    }
   ],
   "source": [
    "mn.Resultados[1].head()"
   ]
  },
  {
   "cell_type": "markdown",
   "metadata": {},
   "source": [
    "## <font color= #6B6B6B> 5.3 Resultados BTC/USD </font>"
   ]
  },
  {
   "cell_type": "code",
   "execution_count": 13,
   "metadata": {},
   "outputs": [
    {
     "data": {
      "text/html": [
       "<div>\n",
       "<style scoped>\n",
       "    .dataframe tbody tr th:only-of-type {\n",
       "        vertical-align: middle;\n",
       "    }\n",
       "\n",
       "    .dataframe tbody tr th {\n",
       "        vertical-align: top;\n",
       "    }\n",
       "\n",
       "    .dataframe thead th {\n",
       "        text-align: right;\n",
       "    }\n",
       "</style>\n",
       "<table border=\"1\" class=\"dataframe\">\n",
       "  <thead>\n",
       "    <tr style=\"text-align: right;\">\n",
       "      <th></th>\n",
       "      <th>CP BTC/USD Bitso</th>\n",
       "      <th>Spread</th>\n",
       "      <th>Effective</th>\n",
       "      <th>CP BTC/USD Gate.io</th>\n",
       "      <th>Spread</th>\n",
       "      <th>Effective</th>\n",
       "      <th>CP BTC/USD OKCoin</th>\n",
       "      <th>Spread</th>\n",
       "      <th>Effective</th>\n",
       "    </tr>\n",
       "    <tr>\n",
       "      <th>timestamp2</th>\n",
       "      <th></th>\n",
       "      <th></th>\n",
       "      <th></th>\n",
       "      <th></th>\n",
       "      <th></th>\n",
       "      <th></th>\n",
       "      <th></th>\n",
       "      <th></th>\n",
       "      <th></th>\n",
       "    </tr>\n",
       "  </thead>\n",
       "  <tbody>\n",
       "    <tr>\n",
       "      <th>2022-11-12T00:34</th>\n",
       "      <td>16890.0</td>\n",
       "      <td>11.0</td>\n",
       "      <td>0.000000</td>\n",
       "      <td>16900.23</td>\n",
       "      <td>0.51</td>\n",
       "      <td>0.000000</td>\n",
       "      <td>16898.99</td>\n",
       "      <td>11.28</td>\n",
       "      <td>0.000000</td>\n",
       "    </tr>\n",
       "    <tr>\n",
       "      <th>2022-11-12T00:35</th>\n",
       "      <td>16911.0</td>\n",
       "      <td>8.0</td>\n",
       "      <td>8.678386</td>\n",
       "      <td>16923.08</td>\n",
       "      <td>42.10</td>\n",
       "      <td>12.596021</td>\n",
       "      <td>16918.23</td>\n",
       "      <td>13.50</td>\n",
       "      <td>2.279081</td>\n",
       "    </tr>\n",
       "    <tr>\n",
       "      <th>2022-11-12T00:36</th>\n",
       "      <td>16923.0</td>\n",
       "      <td>18.0</td>\n",
       "      <td>10.422941</td>\n",
       "      <td>16929.21</td>\n",
       "      <td>0.53</td>\n",
       "      <td>19.406156</td>\n",
       "      <td>16925.52</td>\n",
       "      <td>7.61</td>\n",
       "      <td>0.947667</td>\n",
       "    </tr>\n",
       "  </tbody>\n",
       "</table>\n",
       "</div>"
      ],
      "text/plain": [
       "                  CP BTC/USD Bitso  Spread  Effective  CP BTC/USD Gate.io  \\\n",
       "timestamp2                                                                  \n",
       "2022-11-12T00:34           16890.0    11.0   0.000000            16900.23   \n",
       "2022-11-12T00:35           16911.0     8.0   8.678386            16923.08   \n",
       "2022-11-12T00:36           16923.0    18.0  10.422941            16929.21   \n",
       "\n",
       "                  Spread  Effective  CP BTC/USD OKCoin  Spread  Effective  \n",
       "timestamp2                                                                 \n",
       "2022-11-12T00:34    0.51   0.000000           16898.99   11.28   0.000000  \n",
       "2022-11-12T00:35   42.10  12.596021           16918.23   13.50   2.279081  \n",
       "2022-11-12T00:36    0.53  19.406156           16925.52    7.61   0.947667  "
      ]
     },
     "execution_count": 13,
     "metadata": {},
     "output_type": "execute_result"
    }
   ],
   "source": [
    "mn.Resultados[2].head()"
   ]
  },
  {
   "cell_type": "markdown",
   "metadata": {},
   "source": [
    "<br>"
   ]
  },
  {
   "cell_type": "markdown",
   "metadata": {},
   "source": [
    "# <font color= #6B6B6B> <font size = 6> 6. References </font>"
   ]
  },
  {
   "cell_type": "markdown",
   "metadata": {},
   "source": [
    "<hr style=\"border:0.02in solid gray\"> </hr>"
   ]
  },
  {
   "cell_type": "markdown",
   "metadata": {},
   "source": [
    "- VWAP (definición). (s. f.). IG. https://www.ig.com/es/glosario-trading/definicion-de-vwap\n",
    "\n",
    "- elEconomista.es. (s. f.). Spread: qué es - Diccionario de Economía. https://www.eleconomista.es/diccionario-de-economia/spread\n",
    "\n",
    "- Nine, E. N. (2022, 7 enero). El precio BID, el MID y el ASK. ¿Qué son y para qué se usan? ». Ninety Nine. https://ninetynine.com/blog/bid-mid-ask/"
   ]
  },
  {
   "cell_type": "markdown",
   "metadata": {},
   "source": [
    "<br>"
   ]
  }
 ],
 "metadata": {
  "kernelspec": {
   "display_name": "Python 3.8.5 ('base')",
   "language": "python",
   "name": "python3"
  },
  "language_info": {
   "codemirror_mode": {
    "name": "ipython",
    "version": 3
   },
   "file_extension": ".py",
   "mimetype": "text/x-python",
   "name": "python",
   "nbconvert_exporter": "python",
   "pygments_lexer": "ipython3",
   "version": "3.8.5"
  },
  "vscode": {
   "interpreter": {
    "hash": "40d3a090f54c6569ab1632332b64b2c03c39dcf918b08424e98f38b5ae0af88f"
   }
  }
 },
 "nbformat": 4,
 "nbformat_minor": 4
}
