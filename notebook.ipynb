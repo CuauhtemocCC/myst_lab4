{
 "cells": [
  {
   "cell_type": "markdown",
   "metadata": {},
   "source": [
    "<hr style=\"border:0.02in solid gray\"> </hr>"
   ]
  },
  {
   "cell_type": "markdown",
   "metadata": {},
   "source": [
    "<center><font color=#555555><font size=6> Laboratorio 4: Microestructura del mercado </font> <br> <br>\n",
    "    \n",
    "<center><font color=#555555><font size=5> Microestructura de trading </font> <br> <br> <br>\n",
    "\n",
    "<center><font color=#555555><font size=5> Cuauhtémoc Corrales Camacho, if720482@iteso.mx </font> <br> <br>\n",
    "\n",
    "<center><font color=#555555><font size=5> Jesús Sebastián González Ortiz, if721621@iteso.mx </font> <br> <br> <br>\n",
    "\n",
    "<center> <font color= #555555> <font size = 4> Noviembre 2022 </a> | <font color= #555555> <font size = 4> Repository: <a href='https://github.com/SebasGlez2000/myst_lab4'>Link</a></font>"
   ]
  },
  {
   "cell_type": "markdown",
   "metadata": {},
   "source": [
    "<hr style=\"border:0.02in solid gray\"> </hr>"
   ]
  },
  {
   "cell_type": "markdown",
   "metadata": {},
   "source": [
    "<font color= #555555> <font size = 4> Abstract </font>"
   ]
  },
  {
   "cell_type": "markdown",
   "metadata": {},
   "source": [
    "Con la información recaudada de tres diferentes exchanges de diferentes partes del mundo, se usaron los libros de ordenes de tres diferentes criptomonedas que son BTC, ETH y SOL, con la información de volumenes y precios, el objetivo será visualizar y modelar la microestructura del mercado por medio de sus comportamientos de los libros de ordenes y sus características."
   ]
  },
  {
   "cell_type": "markdown",
   "metadata": {},
   "source": [
    "<br>"
   ]
  },
  {
   "cell_type": "markdown",
   "metadata": {},
   "source": [
    "# <font color= #6B6B6B> <font size = 6> 1. Introduction </font>"
   ]
  },
  {
   "cell_type": "markdown",
   "metadata": {},
   "source": [
    "<hr style=\"border:0.02in solid gray\"> </hr>"
   ]
  },
  {
   "cell_type": "markdown",
   "metadata": {},
   "source": [
    "En el siguiente laboratorio se estará trabajando en la Microestructura del mercado enfocado en las criptomonedas del momento, se recaurdará información del Libro de Ordenes de criptomonedas de diversos exchanges internacionales, esto con el propósito de visualizar y modelar la microestructura del mercado por medio de su comportamiento del libro de ordenes. \n",
    "\n",
    "Los libros de ordenes de dichas criptomonedas serán descargadas de tres exchanges de diferentes partes del mundo para ver la variación de precios que hay entre dichas plataformas y así poder observar si es posible el arbitraje entre ellos. Los exchanges utilizados serán Bitso que es una plataforma mexicana, Gate que es una plataforma de las Islas Caimán y Okcoin que es una plataforma de Estados Unidos. \n",
    "\n",
    "Como se puede observar, nuestros exchanges tienen sedes muy alejadas unas de otras entonces las ordenes recibidas entre dichos exchanges van a variar bastante unas de otras, la descarga del libro de ordenes se hará de una hora y de ahí se partirá para obtener los datos que se estan buscando para la realización del laboratorio.\n",
    "\n",
    "De los Libros de Ordenes (LO) de los exchanges se extraerán los siguientes datos:\n",
    "\n",
    "- Ask-volume para cada timestamp del LO: El ask-volume es la cantidad de ordenes que existen en el mercado para la **venta** del activo en el timestamp indicado.\n",
    "- Bid-volume para cada timestamp del LO: El bid-volume es la cantidad de ordenes que existen en el mercado para la **compra** del activo en el timestamp indicado.\n",
    "- Total Volume (ask-bid) para cada timestamp del LO: Es la suma de los volumenes que hay entre el bid y el ask en el timestamp indicado.\n",
    "- Mid-Price (promedio de Top Of the Book) para cada timestamp del LO: Es el promedio de los precios de la oferta y la demanda del activo al momento.\n",
    "- VWAP para cada timestamp del LO: Es el precio medio ponderado por volumen, muestra la relación entre el precio de un activo y su volumen total de operaciones.\n",
    "\n",
    "A partir de los precios recolectados entre el bid y el ask, se calculará el spread, que es la diferencia de precios entre la demanda (bid) y la oferta (ask) de un mercado, y se contruirán series de tiempo con la información recopilada y procesada para su fácil visualización.\n",
    "\n",
    "Se dividirá en tres secciones el laboratorio; el primero consiste en la extracción del Libro de Ordenes y OHLC de la criptomonedas de diversos exchanges, después la contrsucción de las Series de Tiempo indicadas previamente y por último es el modelado de la microestructura que consiste en estimar el Effective Spread del modelo de Roll."
   ]
  },
  {
   "cell_type": "markdown",
   "metadata": {},
   "source": [
    "<br>"
   ]
  },
  {
   "cell_type": "markdown",
   "metadata": {},
   "source": [
    "# <font color= #6B6B6B> 2. Descripcion de datos </font>"
   ]
  },
  {
   "cell_type": "markdown",
   "metadata": {},
   "source": [
    "<hr style=\"border:0.02in solid gray\"> </hr>"
   ]
  },
  {
   "cell_type": "markdown",
   "metadata": {},
   "source": [
    " La información obtenida para el libro de ordenes son de tres criptomonedas que se consideran que son de las más influyentes del mercado: Ethereum (ETH), Solana (SOL) y Bitcoin (BTC), dichas monedas se medirán en dólares americanos para una visión más generalizada del mercado. Cada par sera extraido de los tres diferentes exchanges propuestos durante la introduccion, con lo cual se dispondran de nueve instrumentos para su analisis. \n",
    "\n",
    " Esta informacion sera descargada de la paqueteria ccxt, la cual pide en su documentacion un instrumento, un exchange y un limite de ordenes. Y arroja como salidas un diccionario con el nombre del instrumento, los niveles de operaciones de bid y ask dentro del limite establecido, un timestamp en formato de microsegundos y una fecha en formata iso. \n",
    "\n",
    " Para el desarrollo de este laboratorio se necesita extraer una hora de datos, donde dicho periodo de tiempo recopilara todos los instrumentos dentro del intervalo."
   ]
  },
  {
   "cell_type": "code",
   "execution_count": null,
   "metadata": {},
   "outputs": [],
   "source": []
  },
  {
   "cell_type": "markdown",
   "metadata": {},
   "source": [
    "<br>"
   ]
  },
  {
   "cell_type": "markdown",
   "metadata": {},
   "source": [
    "# <font color= #6B6B6B> 4. Procesamiento y Visualización de datos  </font>"
   ]
  },
  {
   "cell_type": "markdown",
   "metadata": {},
   "source": [
    "<hr style=\"border:0.02in solid gray\"> </hr>"
   ]
  },
  {
   "cell_type": "markdown",
   "metadata": {},
   "source": [
    "El primer paso fue hacer una funcion de iteracion para almacenar los datos correspondientes a los nueve instrumentos en el periodo determinado de una hora. Dicha funcion tiene como entradas el limite de operaciones, el exchange y el tiempo asignado y arroja una lista con nueve grupos con los respectivos los datos en pares de segundos durante el intervalo. Dicha operacion de extraccion se realizo mediante la funcion cccxt.fetch_order_book.\n",
    "\n",
    "Tras esto se creo la funcion de extracion de precios de cierre, la cual necesita de un exchange, un instrumento y un limite y arroja un diccionario que incluye los precios de cierre por minito en el limite escrito. La funcion utilizada para este metedo fue ccxt.fetch_ohlcv. Un dato curioso de este metodo es que extrae valores del datos mas nuevo hacia atras en el tiempo, en la longitud del limite ingresado. \n",
    "\n",
    "Con estas dos extracciones, se creo una funcion para crear un formato de salida como el especificado en la primera de las visualizaciones. "
   ]
  },
  {
   "cell_type": "markdown",
   "metadata": {},
   "source": [
    "## <font color= #6B6B6B> 4.1. Creacion de tabla de microestructura  </font>"
   ]
  },
  {
   "cell_type": "markdown",
   "metadata": {},
   "source": [
    "La función llamada microestructura lee los datos descargados de las funciones anteriores para organizarlos en un DataFrame con el formato exigido en las indicaciones. Dicha funcion recibe como entrada una lista con los exchange, una lista con los instrumentos, el tiempo de intervalo y una lista de apoyo ya declarada al inicio del codigo. \n",
    "\n",
    "Dentro de esta funcion, se calcula el numero de niveles, el volumen total de operaciones *Bid* y *Ask*, asi como el volumen total operado; el precio medio del instrumento,  el cual se calcula mediante el promedio de los precios de *Bid* y *Ask* en su primer nivel; el VWAP se calcula mediante un promedio ponderado que implica los precios de *Bid* y *Ask* y sus respectivos volumenes. Finalmente se calcula el spread de precios para cada intervalo  y una columna de apoyo referente al tiempo del intervalo. "
   ]
  },
  {
   "cell_type": "code",
   "execution_count": null,
   "metadata": {},
   "outputs": [],
   "source": []
  },
  {
   "cell_type": "markdown",
   "metadata": {},
   "source": [
    "## <font color= #6B6B6B> 4.2. Gráficas de instrumentos  </font>"
   ]
  },
  {
   "cell_type": "markdown",
   "metadata": {},
   "source": [
    "Con la tabla de microestructura creada, es posible graficar el comportamiento de cada activo para el intervalo elegido. Para este caso, se graficara los cambios en el **Mid Price** o precio medio para cada uno de los nueve instrumentos. "
   ]
  },
  {
   "cell_type": "code",
   "execution_count": null,
   "metadata": {},
   "outputs": [],
   "source": []
  },
  {
   "cell_type": "markdown",
   "metadata": {},
   "source": [
    "El siguiente paso fue construir un formato para el calculo de spread efectivo, para el cual se definio una nueva funcion denominada como spread_cut, el cual recibia como entradas la tabla de microestructura y la tabla con los precios de cierre y arroja como salidas una lista con nueve tablas, las cuales tienen datos de timestamp en minutos, el precio de cierre y el spread real. \n",
    "\n",
    "La clave para este inciso fue establecer una union adecuada entre ambas tablas con el proposito de que cada activo y precio de cierre en la tabla de precios de cierre recibiera el spread real dentro de la tabla de micrestructura, ademas que se realizo una transformacion para que el timestamp de las salidas quedara en dentro del valor de minutos y no de segundos. \n",
    "\n",
    "Tras esto, se crearon dos funciones para el calculo del spread efectivo, la primera hace el calculo bruto del spread nuevo mediante la tabla obtenida en la funcion de microestructura, mientras que la segunda añade los resultados de la primera funcion y los concatena a las salidas de la funcion spread_cut mencionada anteriormente. "
   ]
  },
  {
   "cell_type": "markdown",
   "metadata": {},
   "source": [
    "<br>"
   ]
  },
  {
   "cell_type": "markdown",
   "metadata": {},
   "source": [
    "# <font color= #6B6B6B> <font size = 6> 5. Resultados </font>"
   ]
  },
  {
   "cell_type": "markdown",
   "metadata": {},
   "source": [
    "<hr style=\"border:0.02in solid gray\"> </hr>"
   ]
  },
  {
   "cell_type": "markdown",
   "metadata": {},
   "source": [
    "Como salidas del nuestros procesos, se obtienen nueve tablas, las cuales almacenan la informacion del timestamp en su indice, el precio de cierre en su primera columna, el spread real en su segunda columna y el resultado del calculado del spread efectivo en su tercera columna. "
   ]
  },
  {
   "cell_type": "markdown",
   "metadata": {},
   "source": [
    "## <font color= #6B6B6B> 5.1 Results of first processes </font>"
   ]
  },
  {
   "cell_type": "code",
   "execution_count": 2,
   "metadata": {},
   "outputs": [],
   "source": [
    "# DELETE THIS CELL IN YOUR FILE\n",
    "\n",
    "# Separate your results according to the main processes you are working on"
   ]
  },
  {
   "cell_type": "markdown",
   "metadata": {},
   "source": [
    "<br>"
   ]
  },
  {
   "cell_type": "markdown",
   "metadata": {},
   "source": [
    "## <font color= #6B6B6B> 5.2 Results of another proces </font>"
   ]
  },
  {
   "cell_type": "code",
   "execution_count": 3,
   "metadata": {},
   "outputs": [],
   "source": [
    "# DELETE THIS CELL IN YOUR FILE\n",
    "\n",
    "# You can have several processes with which you are obtaining the results you need."
   ]
  },
  {
   "cell_type": "markdown",
   "metadata": {},
   "source": [
    "<br>"
   ]
  },
  {
   "cell_type": "markdown",
   "metadata": {},
   "source": [
    "# <font color= #6B6B6B> <font size = 6> 6. References </font>"
   ]
  },
  {
   "cell_type": "markdown",
   "metadata": {},
   "source": [
    "<hr style=\"border:0.02in solid gray\"> </hr>"
   ]
  },
  {
   "cell_type": "markdown",
   "metadata": {},
   "source": [
    "- VWAP (definición). (s. f.). IG. https://www.ig.com/es/glosario-trading/definicion-de-vwap\n",
    "\n",
    "- elEconomista.es. (s. f.). Spread: qué es - Diccionario de Economía. https://www.eleconomista.es/diccionario-de-economia/spread\n",
    "\n",
    "- Nine, E. N. (2022, 7 enero). El precio BID, el MID y el ASK. ¿Qué son y para qué se usan? ». Ninety Nine. https://ninetynine.com/blog/bid-mid-ask/"
   ]
  },
  {
   "cell_type": "markdown",
   "metadata": {},
   "source": [
    "<br>"
   ]
  }
 ],
 "metadata": {
  "kernelspec": {
   "display_name": "Python 3.8.5 ('base')",
   "language": "python",
   "name": "python3"
  },
  "language_info": {
   "codemirror_mode": {
    "name": "ipython",
    "version": 3
   },
   "file_extension": ".py",
   "mimetype": "text/x-python",
   "name": "python",
   "nbconvert_exporter": "python",
   "pygments_lexer": "ipython3",
   "version": "3.8.5"
  },
  "vscode": {
   "interpreter": {
    "hash": "40d3a090f54c6569ab1632332b64b2c03c39dcf918b08424e98f38b5ae0af88f"
   }
  }
 },
 "nbformat": 4,
 "nbformat_minor": 4
}
